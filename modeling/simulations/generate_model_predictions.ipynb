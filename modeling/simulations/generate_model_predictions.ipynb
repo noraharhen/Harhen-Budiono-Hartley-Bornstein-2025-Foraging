{
 "cells": [
  {
   "cell_type": "code",
   "execution_count": 127,
   "metadata": {},
   "outputs": [
    {
     "data": {
      "text/plain": [
       "100"
      ]
     },
     "execution_count": 127,
     "metadata": {},
     "output_type": "execute_result"
    }
   ],
   "source": [
    "using Distributions\n",
    "using Serialization\n",
    "using CSV\n",
    "using Distributed\n",
    "using ProgressMeter\n",
    "include(\"gen_crp_softmax.jl\")\n",
    "# Set random seed for reproducibility\n",
    "Random.seed!(1777)\n",
    "n_subs=100\n"
   ]
  },
  {
   "cell_type": "code",
   "execution_count": 142,
   "metadata": {},
   "outputs": [
    {
     "name": "stderr",
     "output_type": "stream",
     "text": [
      "\u001b[32mSimulating subjects... 100%|█████████████████████████████| Time: 0:09:37\u001b[39m\n"
     ]
    },
    {
     "data": {
      "text/plain": [
       "\"results/model_predictions/simulated_data_non_structure_learner.csv\""
      ]
     },
     "execution_count": 142,
     "metadata": {},
     "output_type": "execute_result"
    }
   ],
   "source": [
    "alpha = 0.0\n",
    "gamma_base = 1\n",
    "gamma_coef = 0\n",
    "beta = 5\n",
    "# Create array to store results from each worker\n",
    "p = Progress(n_subs, desc=\"Simulating subjects...\")\n",
    "results = @distributed (vcat) for sub_num in 1:n_subs\n",
    "    simulated_data, max_clus, total_reward = crp([alpha, gamma_base, gamma_coef, beta])\n",
    "    simulated_data[!, :sub_num] .= sub_num\n",
    "    next!(p)\n",
    "    simulated_data\n",
    "end\n",
    "\n",
    "# Save simulated data to CSV\n",
    "CSV.write(\"results/model_predictions/simulated_data_non_structure_learner.csv\", all_simulated_data)\n",
    "\n",
    "\n"
   ]
  },
  {
   "cell_type": "code",
   "execution_count": 143,
   "metadata": {},
   "outputs": [
    {
     "name": "stderr",
     "output_type": "stream",
     "text": [
      "\u001b[32mSimulating subjects... 100%|█████████████████████████████| Time: 0:09:57\u001b[39m\n"
     ]
    },
    {
     "data": {
      "text/plain": [
       "\"results/model_predictions/simulated_data_structure_learner.csv\""
      ]
     },
     "execution_count": 143,
     "metadata": {},
     "output_type": "execute_result"
    }
   ],
   "source": [
    "alpha = 0.2\n",
    "gamma_base = 1\n",
    "gamma_coef = 0\n",
    "beta = 5\n",
    "\n",
    "# Create array to store results from each worker\n",
    "p = Progress(n_subs, desc=\"Simulating subjects...\")\n",
    "results = @distributed (vcat) for sub_num in 1:n_subs\n",
    "    simulated_data, max_clus, total_reward = crp([alpha, gamma_base, gamma_coef, beta])\n",
    "    simulated_data[!, :sub_num] .= sub_num\n",
    "    next!(p)\n",
    "    simulated_data\n",
    "end\n",
    "# Save simulated data to CSV\n",
    "CSV.write(\"results/model_predictions/simulated_data_structure_learner.csv\", results)"
   ]
  },
  {
   "cell_type": "code",
   "execution_count": 144,
   "metadata": {},
   "outputs": [
    {
     "data": {
      "text/plain": [
       "add_switch_column (generic function with 1 method)"
      ]
     },
     "execution_count": 144,
     "metadata": {},
     "output_type": "execute_result"
    }
   ],
   "source": [
    "# Add switch column based on galaxy transitions\n",
    "function add_switch_column(data)\n",
    "    switch_col = []\n",
    "    for i in 1:nrow(data)\n",
    "        planet = data.planet_num[i]\n",
    "        curr_planet_type = data.galaxy[i]\n",
    "        \n",
    "        if planet > 0\n",
    "            last_planet_type = data[data.planet_num .== (planet-1), :galaxy][1]\n",
    "            if curr_planet_type == last_planet_type\n",
    "                push!(switch_col, String(\"no_switch\"))\n",
    "            else\n",
    "                push!(switch_col, String(\"switch\"))\n",
    "            end\n",
    "        else\n",
    "            push!(switch_col, String(\"no_switch\"))\n",
    "        end\n",
    "    end\n",
    "    return switch_col\n",
    "end"
   ]
  },
  {
   "cell_type": "code",
   "execution_count": 145,
   "metadata": {},
   "outputs": [
    {
     "name": "stderr",
     "output_type": "stream",
     "text": [
      "\u001b[32mSimulating subjects... 100%|█████████████████████████████| Time: 0:10:01\u001b[39m\n"
     ]
    },
    {
     "data": {
      "text/plain": [
       "\"results/model_predictions/simulated_data_uncertainty_non_adapter.csv\""
      ]
     },
     "execution_count": 145,
     "metadata": {},
     "output_type": "execute_result"
    }
   ],
   "source": [
    "alpha = 0.2\n",
    "gamma_base = 1\n",
    "gamma_coef = 0\n",
    "beta = 5\n",
    "# Create array to store results from each worker\n",
    "p = Progress(n_subs, desc=\"Simulating subjects...\")\n",
    "results = @distributed (vcat) for sub_num in 1:n_subs\n",
    "    simulated_data, max_clus, total_reward = crp([alpha, gamma_base, gamma_coef, beta])\n",
    "    switch_col = add_switch_column(simulated_data)\n",
    "    insertcols!(simulated_data, :switch => switch_col)\n",
    "    simulated_data[!, :sub_num] .= sub_num\n",
    "    next!(p)\n",
    "    simulated_data\n",
    "end\n",
    "# Save simulated data to CSV\n",
    "CSV.write(\"results/model_predictions/simulated_data_uncertainty_non_adapter.csv\", results)\n"
   ]
  },
  {
   "cell_type": "code",
   "execution_count": 148,
   "metadata": {},
   "outputs": [
    {
     "name": "stderr",
     "output_type": "stream",
     "text": [
      "\u001b[32mSimulating subjects... 100%|█████████████████████████████| Time: 0:09:29\u001b[39m\n"
     ]
    },
    {
     "data": {
      "text/plain": [
       "\"results/model_predictions/simulated_data_uncertainty_adapter.csv\""
      ]
     },
     "execution_count": 148,
     "metadata": {},
     "output_type": "execute_result"
    }
   ],
   "source": [
    "alpha = 0.2\n",
    "gamma_base = 1\n",
    "gamma_coef = -0.3\n",
    "beta = 5\n",
    "# Create array to store results from each worker\n",
    "p = Progress(n_subs, desc=\"Simulating subjects...\")\n",
    "results = @distributed (vcat) for sub_num in 1:n_subs\n",
    "    simulated_data, max_clus, total_reward = crp([alpha, gamma_base, gamma_coef, beta])\n",
    "    switch_col = add_switch_column(simulated_data)\n",
    "    insertcols!(simulated_data, :switch => switch_col)\n",
    "    simulated_data[!, :sub_num] .= sub_num\n",
    "    next!(p)\n",
    "    simulated_data\n",
    "end\n",
    "# Save simulated data to CSV\n",
    "CSV.write(\"results/model_predictions/simulated_data_uncertainty_adapter.csv\", results)\n"
   ]
  }
 ],
 "metadata": {
  "kernelspec": {
   "display_name": "Julia 1.8.5",
   "language": "julia",
   "name": "julia-1.8"
  },
  "language_info": {
   "file_extension": ".jl",
   "mimetype": "application/julia",
   "name": "julia",
   "version": "1.8.5"
  }
 },
 "nbformat": 4,
 "nbformat_minor": 2
}
